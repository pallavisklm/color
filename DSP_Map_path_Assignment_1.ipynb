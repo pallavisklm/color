{
  "cells": [
    {
      "cell_type": "markdown",
      "metadata": {
        "id": "view-in-github",
        "colab_type": "text"
      },
      "source": [
        "<a href=\"https://colab.research.google.com/github/pallavisklm/color/blob/main/DSP_Map_path_Assignment_1.ipynb\" target=\"_parent\"><img src=\"https://colab.research.google.com/assets/colab-badge.svg\" alt=\"Open In Colab\"/></a>"
      ]
    },
    {
      "cell_type": "code",
      "execution_count": null,
      "metadata": {
        "colab": {
          "base_uri": "https://localhost:8080/",
          "height": 130
        },
        "id": "YuifspC8q09r",
        "outputId": "0d9b7e9e-2a21-4ded-f6d8-9abda51a7071"
      },
      "outputs": [
        {
          "output_type": "error",
          "ename": "SyntaxError",
          "evalue": "ignored",
          "traceback": [
            "\u001b[0;36m  File \u001b[0;32m\"<ipython-input-6-bf5cb0ac73e9>\"\u001b[0;36m, line \u001b[0;32m11\u001b[0m\n\u001b[0;31m    f1=folium.FeatureGroup(\"path1\")\u001b[0m\n\u001b[0m     ^\u001b[0m\n\u001b[0;31mSyntaxError\u001b[0m\u001b[0;31m:\u001b[0m invalid syntax\n"
          ]
        }
      ],
      "source": [
        "import folium\n",
        "map=folium.Map(location=[16.7850, 80.8488],tiles='cartodbpositron',zoom_start=8,zoom_en=14)\n",
        "coordinates_1=[[16.785274008636378, 80.86344842544462],[16.543201049535842, 80.63273554183598],\n",
        "          [16.132036437792944, 80.16032344682783],[15.571907221632342, 80.05046016891902],\n",
        "          [15.10572968843841, 79.62199338507442],[14.723547210959772, 79.17155394564803],[14.712921378039837, 79.1056359789027],\n",
        "          [14.138366896131027, 78.76505981738522],[13.701156442284528, 78.91886840645763]\n",
        "\n",
        "              \n",
        "#creating feature groups\n",
        "\n",
        "f1=folium.FeatureGroup(\"path1\")\n",
        "\n",
        "folium.Marker(location=[16.785274008636378, 80.86344842544462],popup='<strong>Marker3</strong>',tooltip='<strong>Click here to see Popup</strong>',icon=folium.Icon(color='blue',prefix='glyphicon',icon='off')).add_to(map)\n",
        "folium.Marker(location=[16.543201049535842, 80.63273554183598],popup='<h3 style=\"color:green;\">Marker2</h3>',tooltip='<strong>Click here to see Guntur</strong>',icon=folium.Icon(color='purple',prefix='fa',icon='ambulance')).add_to(map)\n",
        "folium.Marker(location=[16.132036437792944, 80.16032344682783],popup='<strong>Marker3</strong>',tooltip='<strong>Click here to see Popup</strong>',icon=folium.Icon(color='green',prefix='fa',icon='gasstation')).add_to(map)\n",
        "folium.Marker(location=[15.571907221632342, 80.05046016891902],popup='<h3 style=\"color:green;\">Marker2</h3>',tooltip='<strong>Click here to see Guntur</strong>',icon=folium.Icon(color='voilet',prefix='fa',icon='anchor')).add_to(map)\n",
        "folium.Marker(location=[15.10572968843841, 79.62199338507442],popup='Default popup Marker1',tooltip='Click here to see more details',icon=folium.Icon(color='red',icon='none')).add_to(map)\n",
        "folium.Marker(location=[14.723547210959772, 79.17155394564803],popup='<strong>Marker3</strong>',tooltip='<strong>Click here to see Popup</strong>',icon=folium.Icon(color='blue',prefix='fa',icon='Golfing')).add_to(map)\n",
        "folium.Marker(location=[14.712921378039837, 79.1056359789027],popup='<h3 style=\"color:green;\">Marker2</h3>',tooltip='<strong>Click here to see Guntur</strong>',icon=folium.Icon(color='purple',prefix='fa',icon='hospital-o')).add_to(map)\n",
        "folium.Marker(location=[14.138366896131027, 78.76505981738522],popup='Default popup Marker1',tooltip='Click here to see more details',icon=folium.Icon(color='red',icon='none')).add_to(map)\n",
        "folium.Marker(location=[13.701156442284528, 78.91886840645763],popup='<strong>Marker3</strong>',tooltip='<strong>Click here to see Popup</strong>',icon=folium.Icon(color='blue',prefix='fa',icon='Airport')).add_to(map)\n",
        "\n",
        "\n",
        "\n",
        "#adding lines to the different feature groups\n",
        "line_1=folium.vector_layers.PolyLine(coordinates_1,popup='<b>path to palakol_1</b>',tooltip='path1',color='red',weight=10).add_to(f1)\n",
        " \n",
        "f1.add_to(map)\n",
        "\n",
        "folium.LayerControl().add_to(map)\n",
        "map\n",
        "\n"
      ]
    }
  ],
  "metadata": {
    "colab": {
      "collapsed_sections": [],
      "name": "DSP_Map_path_Assignment_1.ipynb",
      "provenance": [],
      "include_colab_link": true
    },
    "kernelspec": {
      "display_name": "Python 3",
      "name": "python3"
    },
    "language_info": {
      "name": "python"
    }
  },
  "nbformat": 4,
  "nbformat_minor": 0
}